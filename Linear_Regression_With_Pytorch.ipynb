{
 "cells": [
  {
   "cell_type": "markdown",
   "id": "egyptian-office",
   "metadata": {},
   "source": [
    "<h2>\n",
    "   Loading the necessary dependencies\n",
    "</h2>\n",
    "<p>We will start by importing all the necessary modules to carry out the practical work which is to build a linear regression model</p>\n",
    "<ul>\n",
    "    <li>\n",
    "        <span style='font-weight: bolder'>torch</span> : PyTorch is a Python package that provides two high-level features\n",
    "        <ul>\n",
    "            <li>Tensor computation</li>\n",
    "            <li>Deep neural networks built on a tape-based autograd system</li>\n",
    "        </ul>\n",
    "    </li>\n",
    "    <li>\n",
    "          <span style='font-weight: bolder'>nn</span> : The basic building block that will allow us to build our linear regression model \n",
    "    </li>\n",
    "    <li>\n",
    "        <span style='font-weight: bolder'>numpy</span> : allows us to perform numerical calculations with Python. It introduces an easier management of multi-dimensional arrays.\n",
    "    </li>\n",
    "    <li>\n",
    "        <span style='font-weight: bolder'>make_regression</span> : Generate a random regression problem.\n",
    "        <ul>\n",
    "            <li>n_samples: The number of samples</li>\n",
    "            <li>n_features: The number of features</li>\n",
    "            <li>noise: The gaussian's noise standard deviation applied to the output</li>\n",
    "        </ul>\n",
    "    </li>\n",
    "    <li>\n",
    "       <span style='font-weight: bolder'>pyplot</span> : Framework that allows us to visualize our data and our model \n",
    "    </li>\n",
    "</ul>"
   ]
  },
  {
   "cell_type": "code",
   "execution_count": 1,
   "id": "dimensional-relaxation",
   "metadata": {},
   "outputs": [],
   "source": [
    "import torch\n",
    "from torch import nn\n",
    "import numpy as np\n",
    "from sklearn.datasets import make_regression\n",
    "import matplotlib.pyplot as plt"
   ]
  },
  {
   "cell_type": "markdown",
   "id": "portuguese-integrity",
   "metadata": {},
   "source": [
    "<h2>Creation of the dataset </h2>\n",
    "<p>\n",
    "    In this sub-section we will create our training dataset using the make_regression function to generate a number of random doonees \n",
    "</p>"
   ]
  },
  {
   "cell_type": "code",
   "execution_count": 2,
   "id": "lonely-receipt",
   "metadata": {},
   "outputs": [],
   "source": [
    "x_train, y_train = make_regression(n_samples= 100, n_features=1, shuffle= True, random_state=1, noise= 20) "
   ]
  },
  {
   "cell_type": "code",
   "execution_count": 3,
   "id": "seven-healthcare",
   "metadata": {},
   "outputs": [
    {
     "name": "stdout",
     "output_type": "stream",
     "text": [
      "(100, 1)\n",
      "(100,)\n"
     ]
    }
   ],
   "source": [
    "# Display the size of our data set \n",
    "print(x_train.shape)\n",
    "print(y_train.shape)"
   ]
  },
  {
   "cell_type": "code",
   "execution_count": 4,
   "id": "knowing-whole",
   "metadata": {},
   "outputs": [],
   "source": [
    "# transform our data set from ndarrays to torch.tensor format\n",
    "X = torch.from_numpy(x_train.astype(np.float32))\n",
    "y = torch.from_numpy(y_train.astype(np.float32))"
   ]
  },
  {
   "cell_type": "code",
   "execution_count": 5,
   "id": "tested-detector",
   "metadata": {
    "scrolled": true
   },
   "outputs": [
    {
     "name": "stdout",
     "output_type": "stream",
     "text": [
      "torch.Size([100, 1])\n"
     ]
    }
   ],
   "source": [
    "# reshaping our labels to be a shape (n_sample, 1)\n",
    "y = y.view(y.shape[0], 1)\n",
    "print(y.shape)"
   ]
  },
  {
   "cell_type": "markdown",
   "id": "about-artist",
   "metadata": {},
   "source": [
    "<h2>Building our linear Regression Model</h2>\n",
    "<p>\n",
    "    \n",
    "</p>"
   ]
  },
  {
   "cell_type": "code",
   "execution_count": 6,
   "id": "generic-standard",
   "metadata": {},
   "outputs": [],
   "source": [
    "class LinearRegression(nn.Module):# We define our linear regression by subclassing nn.Module \n",
    "    \n",
    "    def __init__(self):\n",
    "        \n",
    "        super(LinearRegression, self).__init__()\n",
    "        \n",
    "        self.linearReg = nn.Sequential(\n",
    "            nn.Linear(1, 1)\n",
    "        )\n",
    "        \n",
    "    def forward(self, x):\n",
    "        return self.linearReg(x)"
   ]
  },
  {
   "cell_type": "markdown",
   "id": "entertaining-visibility",
   "metadata": {},
   "source": [
    "<h2>Model Training Stage</h2>\n",
    "<p>\n",
    "    the training phase of the model is divided into three phases:\n",
    "    <ul>\n",
    "        <li>1<sup>st</sup> step :</li> feed-forword the data and calculate the error at the output between predictions and targets \n",
    "        <li>2<sup>nd</sup> step :</li> Perform a repropagation of the errors from the output to the input, this process is known as backpropagation. For more information please watch the video of <a href='https://www.youtube.com/watch?v=tIeHLnjs5U8' style='color: red'>3Blue1Brown</a> on youtube\n",
    "        <li>3<sup>rd</sup> step :</li> updating model trainable parameters \n",
    "    </ul>\n",
    "</p>"
   ]
  },
  {
   "cell_type": "code",
   "execution_count": 7,
   "id": "magnetic-wealth",
   "metadata": {},
   "outputs": [],
   "source": [
    "def train_loop(model, X, y, loss_fn, optimizer):\n",
    "    \n",
    "    for epoch in range(n_epoch):\n",
    "     # Compute prediction and loss\n",
    "        pred = model(X) #prediction computation\n",
    "        \n",
    "        loss = loss_fn(pred, y)#loss computation\n",
    "\n",
    "        # Backpropagation\n",
    "        loss.backward()\n",
    "        \n",
    "        # updating weights\n",
    "        optimizer.step()\n",
    "        optimizer.zero_grad()\n",
    "        \n",
    "        #print loss during training stage\n",
    "        if (epoch+1) % 10 == 0:\n",
    "            loss = loss.item()\n",
    "            print(f\"epoch: {(epoch+1)},  loss = [{loss:.4f}]\")"
   ]
  },
  {
   "cell_type": "code",
   "execution_count": 8,
   "id": "greenhouse-accident",
   "metadata": {},
   "outputs": [
    {
     "name": "stdout",
     "output_type": "stream",
     "text": [
      "epoch: 10,  loss = [4285.3545]\n",
      "epoch: 20,  loss = [3201.0493]\n",
      "epoch: 30,  loss = [2415.9443]\n",
      "epoch: 40,  loss = [1846.9017]\n",
      "epoch: 50,  loss = [1434.0736]\n",
      "epoch: 60,  loss = [1134.3157]\n",
      "epoch: 70,  loss = [916.4847]\n",
      "epoch: 80,  loss = [758.0726]\n",
      "epoch: 90,  loss = [642.7936]\n",
      "epoch: 100,  loss = [558.8510]\n",
      "epoch: 110,  loss = [497.6918]\n",
      "epoch: 120,  loss = [453.1094]\n",
      "epoch: 130,  loss = [420.5948]\n",
      "epoch: 140,  loss = [396.8713]\n",
      "epoch: 150,  loss = [379.5551]\n",
      "epoch: 160,  loss = [366.9111]\n",
      "epoch: 170,  loss = [357.6756]\n",
      "epoch: 180,  loss = [350.9276]\n",
      "epoch: 190,  loss = [345.9958]\n",
      "epoch: 200,  loss = [342.3906]\n"
     ]
    }
   ],
   "source": [
    "model = LinearRegression()\n",
    "\n",
    "learning_rate = 0.01\n",
    "n_epoch = 200 \n",
    "\n",
    "loss_fn = nn.MSELoss() # function to be minimize by our backpropagation phase\n",
    "optimizer = torch.optim.SGD(model.parameters(), lr = learning_rate) # Optimization algorithm used to minimize our loss function\n",
    "\n",
    "train_loop(model, X, y, loss_fn, optimizer) # model training stage"
   ]
  },
  {
   "cell_type": "code",
   "execution_count": 9,
   "id": "radical-friend",
   "metadata": {},
   "outputs": [
    {
     "name": "stdout",
     "output_type": "stream",
     "text": [
      "torch.float32\n"
     ]
    }
   ],
   "source": [
    "X_test = torch.tensor([5]).view(1,1).numpy()\n",
    "X_test = torch.from_numpy(X_test.astype(np.float32))\n",
    "print(X_test.dtype)"
   ]
  },
  {
   "cell_type": "markdown",
   "id": "crude-prime",
   "metadata": {},
   "source": [
    "<h2>Test of our linear regression model</h2>"
   ]
  },
  {
   "cell_type": "code",
   "execution_count": 10,
   "id": "ideal-costa",
   "metadata": {},
   "outputs": [],
   "source": [
    "predictions = model(X).detach()# detach() used to create a new Tensor, detached from the current graph"
   ]
  },
  {
   "cell_type": "code",
   "execution_count": 11,
   "id": "controversial-dover",
   "metadata": {},
   "outputs": [
    {
     "data": {
      "image/png": "[encoded data removed]",
      "text/plain": [
       "<Figure size 432x288 with 1 Axes>"
      ]
     },
     "metadata": {
      "needs_background": "light"
     },
     "output_type": "display_data"
    }
   ],
   "source": [
    "plt.plot(x_train, y_train, 'ro')\n",
    "plt.plot(x_train, predictions, 'b')\n",
    "plt.show() "
   ]
  }
 ],
 "metadata": {
  "kernelspec": {
   "display_name": "Python 3",
   "language": "python",
   "name": "python3"
  },
  "language_info": {
   "codemirror_mode": {
    "name": "ipython",
    "version": 3
   },
   "file_extension": ".py",
   "mimetype": "text/x-python",
   "name": "python",
   "nbconvert_exporter": "python",
   "pygments_lexer": "ipython3",
   "version": "3.7.9"
  }
 },
 "nbformat": 4,
 "nbformat_minor": 5
}
